{
 "cells": [
  {
   "cell_type": "markdown",
   "metadata": {},
   "source": [
    "# Pysumma functionality\n",
    "This notebook gives a brief overview of pysumma functions. \n",
    "\n",
    "It was originally created by Bart Nijssen and Andrew Bennett (University of Washington) for the \"CUAHSI Virtual University snow modeling course 2019\". \n",
    "Modifications include a change of data and update of the naming scheme to comply with SUMMA v3.0.\n",
    "Source: https://github.com/bartnijssen/cuahsi_vu_2019"
   ]
  },
  {
   "cell_type": "markdown",
   "metadata": {},
   "source": [
    "## Loading the required modules"
   ]
  },
  {
   "cell_type": "code",
   "execution_count": 1,
   "metadata": {},
   "outputs": [],
   "source": [
    "import pysumma as ps\n",
    "import pysumma.plotting as psp\n",
    "import matplotlib.pyplot as plt"
   ]
  },
  {
   "cell_type": "markdown",
   "metadata": {},
   "source": [
    "<br>\n",
    "\n",
    "## Instantiating a simulation object\n",
    "\n",
    "To set up a `Simulation` object you must supply 2 pieces of information. \n",
    "\n",
    "First, the SUMMA executable; this could be either the compiled executable on your local machine, or a docker image.  \n",
    "The second piece of information is the path to the file manager, which contains all file paths and names needed for a SUMMA simulation run.\n",
    "To create the `Simulation` object you can then just pass these to the constructor as shown below."
   ]
  },
  {
   "cell_type": "code",
   "execution_count": 19,
   "metadata": {},
   "outputs": [],
   "source": [
    "path_base = '/home/jovyan/data/pbhmCourseWip/2_process_based_modelling/'"
   ]
  },
  {
   "cell_type": "code",
   "execution_count": 20,
   "metadata": {},
   "outputs": [],
   "source": [
    "# Define location of .exe and file manager\n",
    "executable = '/usr/local/bin/summa.exe'\n",
    "file_manager = path_base + 'settings/reynolds/summa_fileManager_reynoldsConstantDecayRate.txt'"
   ]
  },
  {
   "cell_type": "code",
   "execution_count": 21,
   "metadata": {},
   "outputs": [],
   "source": [
    "# Create a model instance\n",
    "s = ps.Simulation(executable, file_manager)"
   ]
  },
  {
   "cell_type": "markdown",
   "metadata": {},
   "source": [
    "<br>\n",
    "\n",
    "## Manipulating the configuration of the simulation object\n",
    "\n",
    "Most of your interactions with pysumma will be facilitated through this `Simulation` object, so let's take some time to look through what is in it. \n",
    "What's contained in the `Simulation` object right after instantiation is generally just the input required for a SUMMA run.\n",
    "For a more in depth discussion of what these are see the [SUMMA Input](https://summa.readthedocs.io/en/latest/input_output/SUMMA_input/) page of the documentation.\n",
    "There are several attributes of interest that can be examined. \n",
    "To see each of them you can simply `print` them. \n",
    "Here's a very high level overview of what's available:\n",
    "\n",
    "* `s.manager` - the file manager\n",
    "* `s.decisions` - the decisions file\n",
    "* `s.output_control` - defines what variables to write out\n",
    "* `s.force_file_list` - a listing of all of the forcing files to use\n",
    "* `s.local_attributes` - describes GRU/HRU attributes (lat, lon, elevation, etc)\n",
    "* `s.global_hru_params` - listing of spatially constant local (HRU) parameter values\n",
    "* `s.global_gru_params` - listing of spatially constant basin (GRU) parameter values\n",
    "* `s.trial_params` - spatially distributed parameter values (will overwrite `local_param_info` values, can be either HRU or GRU)\n",
    "\n",
    "Most of these objects have a similar interface defined, with exceptions being `local_attributes` and `parameter_trial`. Those two are standard `xarray` datasets. All others follow the simple API:\n",
    "\n",
    "```\n",
    "print(x)                   # Show the data as SUMMA reads it\n",
    "x.get_option(NAME)         # Get an option\n",
    "x.set_option(NAME, VALUE)  # Change an option\n",
    "x.remove_option(NAME)      # Remove an option\n",
    "```\n",
    "\n",
    "More intuitively, you can use `key` - `value` type indexing like dictionaries, dataframes, and datasets:\n",
    "\n",
    "```\n",
    "print(x['key'])    # Get an option\n",
    "x['key'] = value   # Change an option\n",
    "```"
   ]
  },
  {
   "cell_type": "markdown",
   "metadata": {},
   "source": [
    "### File manager\n",
    "Let's take a look at what the file manager text file actually contains:"
   ]
  },
  {
   "cell_type": "code",
   "execution_count": 6,
   "metadata": {},
   "outputs": [
    {
     "name": "stdout",
     "output_type": "stream",
     "text": [
      "controlVersion                       'SUMMA_FILE_MANAGER_V3.0.0'\n",
      "simStartTime                         '2005-07-01 00:00'\n",
      "simEndTime                           '2006-09-30 00:00'\n",
      "tmZoneInfo                           'localTime'\n",
      "settingsPath                         '/home/jovyan/data/pbhmCourseExercises/2_process_based_modelling/pbhm-exercise-2/settings/reynolds/'\n",
      "forcingPath                          '/home/jovyan/data/pbhmCourseExercises/2_process_based_modelling/pbhm-exercise-2/data/reynolds/'\n",
      "outputPath                           '/home/jovyan/data/pbhmCourseExercises/2_process_based_modelling/pbhm-exercise-2/output/reynolds/'\n",
      "decisionsFile                        'summa_zDecisions_reynoldsConstantDecayRate.txt'\n",
      "outputControlFile                    'Model_Output.txt'\n",
      "globalHruParamFile                   'summa_zLocalParamInfo.txt'\n",
      "globalGruParamFile                   'summa_zBasinParamInfo.txt'\n",
      "attributeFile                        'summa_zLocalAttributes_reynoldsSheltered.nc'\n",
      "trialParamFile                       'summa_zParamTrial_constantDecayRate.nc'\n",
      "forcingListFile                      'summa_zForcingFileList_reynoldsSheltered.txt'\n",
      "initConditionFile                    'summa_zInitialCond.nc'\n",
      "outFilePrefix                        'reynolds'\n",
      "vegTableFile                         'VEGPARM.TBL'\n",
      "soilTableFile                        'SOILPARM.TBL'\n",
      "generalTableFile                     'GENPARM.TBL'\n",
      "noahmpTableFile                      'MPTABLE.TBL'\n"
     ]
    }
   ],
   "source": [
    "print(s.manager)"
   ]
  },
  {
   "cell_type": "markdown",
   "metadata": {},
   "source": [
    "<br>\n",
    "\n",
    "These are the file paths and names as the simulation object `s` knows them. You can compare this to the contents of the file  `./pbhm-exercise-2/settings/reynolds/summa_fileManager_reynoldsConstantDecayRate.txt` to see that they are identical. \n",
    "For this exercise, we'll focus on three items: the model decisions or parametrizations, parameter values and output control.\n",
    "\n",
    "<br>"
   ]
  },
  {
   "cell_type": "markdown",
   "metadata": {},
   "source": [
    "### Setting decisions\n",
    "\n",
    "So, now that we've got a handle on what's available and what you can do with it, let's actually try some of this out. First let's just print out our decisions file so we can see what's in the defaults.\n",
    "Note that this only prints the decisions specified in the decision file (`./pbhm-exercise-2/settings/reynolds/summa_zDecisions_reynoldsConstantDecayRate.txt`) and not all the model decisions that can be made in SUMMA. \n",
    "For a full overview of modelling decision, see the SUMMA documentation: https://summa.readthedocs.io/en/master/input_output/SUMMA_input/#infile_model_decisions\n"
   ]
  },
  {
   "cell_type": "code",
   "execution_count": 7,
   "metadata": {},
   "outputs": [
    {
     "name": "stdout",
     "output_type": "stream",
     "text": [
      "soilCatTbl    ROSETTA              ! soil-category dataset\n",
      "vegeParTbl    USGS                 ! vegetation-category dataset\n",
      "soilStress    NoahType             ! choice of function for the soil moisture control on stomatal resistance\n",
      "stomResist    BallBerry            ! choice of function for stomatal resistance\n",
      "num_method    itertive             ! choice of numerical method\n",
      "fDerivMeth    analytic             ! choice of method to calculate flux derivatives\n",
      "LAI_method    monTable             ! choice of method to determine LAI and SAI\n",
      "f_Richards    mixdform             ! form of Richards equation\n",
      "groundwatr    noXplict             ! choice of groundwater parameterization\n",
      "hc_profile    constant             ! choice of hydraulic conductivity profile\n",
      "bcUpprTdyn    nrg_flux             ! type of upper boundary condition for thermodynamics\n",
      "bcLowrTdyn    zeroFlux             ! type of lower boundary condition for thermodynamics\n",
      "bcUpprSoiH    liq_flux             ! type of upper boundary condition for soil hydrology\n",
      "bcLowrSoiH    drainage             ! type of lower boundary condition for soil hydrology\n",
      "veg_traits    CM_QJRMS1988         ! choice of parameterization for vegetation roughness length and displacement height\n",
      "canopyEmis    difTrans             ! choice of parameterization for canopy emissivity\n",
      "snowIncept    lightSnow            ! choice of parameterization for snow interception\n",
      "windPrfile    logBelowCanopy       ! choice of canopy wind profile\n",
      "astability    louisinv             ! choice of stability function\n",
      "canopySrad    CLM_2stream          ! choice of method for canopy shortwave radiation\n",
      "alb_method    conDecay             ! choice of albedo representation\n",
      "compaction    anderson             ! choice of compaction routine\n",
      "snowLayers    CLM_2010             ! choice of method to combine and sub-divide snow layers\n",
      "thCondSnow    jrdn1991             ! choice of thermal conductivity representation for snow\n",
      "thCondSoil    mixConstit           ! choice of thermal conductivity representation for soil\n",
      "spatial_gw    localColumn          ! choice of method for spatial representation of groundwater\n",
      "subRouting    timeDlay             ! choice of method for sub-grid routing\n"
     ]
    }
   ],
   "source": [
    "print(s.decisions)"
   ]
  },
  {
   "cell_type": "markdown",
   "metadata": {},
   "source": [
    "<br> \n",
    "\n",
    "Great, we can see what's in there. But to be able to change anything we need to know the available options for each decision. Let's look at how to do that. For arbitrary reasons we will look at the `snowIncept` option, which describes the parameterization for snow interception in the canopy. First we will get it from the `decisions` object directly, and then query what it can be changed to, then finally change the value to something else.\n",
    "\n",
    "<br>"
   ]
  },
  {
   "cell_type": "code",
   "execution_count": 8,
   "metadata": {},
   "outputs": [
    {
     "name": "stdout",
     "output_type": "stream",
     "text": [
      "snowIncept    lightSnow            ! choice of parameterization for snow interception\n",
      "['stickySnow', 'lightSnow']\n",
      "snowIncept    stickySnow           ! choice of parameterization for snow interception\n"
     ]
    }
   ],
   "source": [
    "# Get just the `snowIncept` option\n",
    "print(s.decisions['snowIncept'])\n",
    "\n",
    "# Look at what we can set it to\n",
    "print(s.decisions['snowIncept'].available_options)\n",
    "\n",
    "# Change the value \n",
    "s.decisions['snowIncept'] = 'stickySnow'\n",
    "print(s.decisions['snowIncept'])"
   ]
  },
  {
   "cell_type": "markdown",
   "metadata": {},
   "source": [
    "<br>\n",
    "\n",
    "### Changing parameters\n",
    "\n",
    "Much like the decisions we can manipulate the `gloabl_hru_param` file. First, let's look at what's contained in it:"
   ]
  },
  {
   "cell_type": "code",
   "execution_count": 9,
   "metadata": {},
   "outputs": [
    {
     "name": "stdout",
     "output_type": "stream",
     "text": [
      "upperBoundHead            |      -7.5d-1 |      -1.0d+2 |      -1.0d-2\n",
      "lowerBoundHead            |       0.0000 |      -1.0d+2 |      -1.0d-2\n",
      "upperBoundTheta           |       0.2004 |       0.1020 |       0.3680\n",
      "lowerBoundTheta           |       0.1100 |       0.1020 |       0.3680\n",
      "upperBoundTemp            |     272.1600 |     270.1600 |     280.1600\n",
      "lowerBoundTemp            |     274.1600 |     270.1600 |     280.1600\n",
      "tempCritRain              |     273.1600 |     272.1600 |     274.1600\n",
      "tempRangeTimestep         |       2.0000 |       0.5000 |       5.0000\n",
      "frozenPrecipMultip        |       1.0000 |       0.5000 |       1.5000\n",
      "snowfrz_scale             |      50.0000 |      10.0000 |    1000.0000\n",
      "fixedThermalCond_snow     |       0.3500 |       0.1000 |       1.0000\n",
      "albedoMax                 |       0.8400 |       0.7000 |       0.9500\n",
      "albedoMinWinter           |       0.5500 |       0.6000 |       1.0000\n",
      "albedoMinSpring           |       0.5500 |       0.3000 |       1.0000\n",
      "albedoMaxVisible          |       0.9500 |       0.7000 |       0.9500\n",
      "albedoMinVisible          |       0.7500 |       0.5000 |       0.7500\n",
      "albedoMaxNearIR           |       0.6500 |       0.5000 |       0.7500\n",
      "albedoMinNearIR           |       0.3000 |       0.1500 |       0.4500\n",
      "albedoDecayRate           |       1.0d+6 |       1.0d+5 |       5.0d+6\n",
      "albedoSootLoad            |       0.3000 |       0.1000 |       0.5000\n",
      "albedoRefresh             |       1.0000 |       1.0000 |      10.0000\n",
      "radExt_snow               |      20.0000 |      20.0000 |      20.0000\n",
      "directScale               |       0.0900 |       0.0000 |       0.5000\n",
      "Frad_direct               |       0.7000 |       0.0000 |       1.0000\n",
      "Frad_vis                  |       0.5000 |       0.0000 |       1.0000\n",
      "newSnowDenMin             |     100.0000 |      50.0000 |     100.0000\n",
      "newSnowDenMult            |     100.0000 |      25.0000 |      75.0000\n",
      "newSnowDenScal            |       5.0000 |       1.0000 |       5.0000\n",
      "constSnowDen              |     100.0000 |      50.0000 |     250.0000\n",
      "newSnowDenAdd             |     109.0000 |      80.0000 |     120.0000\n",
      "newSnowDenMultTemp        |       6.0000 |       1.0000 |      12.0000\n",
      "newSnowDenMultWind        |      26.0000 |      16.0000 |      36.0000\n",
      "newSnowDenMultAnd         |       1.0000 |       1.0000 |       3.0000\n",
      "newSnowDenBase            |       0.0000 |       0.0000 |       0.0000\n",
      "densScalGrowth            |       0.0460 |       0.0230 |       0.0920\n",
      "tempScalGrowth            |       0.0400 |       0.0200 |       0.0600\n",
      "grainGrowthRate           |       2.7d-6 |       1.0d-6 |       5.0d-6\n",
      "densScalOvrbdn            |       0.0230 |       0.0115 |       0.0460\n",
      "tempScalOvrbdn            |       0.0800 |       0.6000 |       1.0000\n",
      "baseViscosity             |       9.0d+5 |       5.0d+5 |       1.5d+6\n",
      "Fcapil                    |       0.0600 |       0.0100 |       0.1000\n",
      "k_snow                    |       0.0150 |       0.0050 |       0.0500\n",
      "mw_exp                    |       3.0000 |       1.0000 |       5.0000\n",
      "z0Snow                    |       0.0010 |       0.0010 |      10.0000\n",
      "z0Soil                    |       0.0100 |       0.0010 |      10.0000\n",
      "z0Canopy                  |       0.1000 |       0.0010 |      10.0000\n",
      "zpdFraction               |       0.6500 |       0.5000 |       0.8500\n",
      "critRichNumber            |       0.2000 |       0.1000 |       1.0000\n",
      "Louis79_bparam            |       9.4000 |       9.2000 |       9.6000\n",
      "Louis79_cStar             |       5.3000 |       5.1000 |       5.5000\n",
      "Mahrt87_eScale            |       1.0000 |       0.5000 |       2.0000\n",
      "leafExchangeCoeff         |       0.0100 |       0.0010 |       0.1000\n",
      "windReductionParam        |       0.2800 |       0.0000 |       1.0000\n",
      "Kc25                      |     296.0770 |     296.0770 |     296.0770\n",
      "Ko25                      |       0.2961 |       0.2961 |       0.2961\n",
      "Kc_qFac                   |       2.1000 |       2.1000 |       2.1000\n",
      "Ko_qFac                   |       1.2000 |       1.2000 |       1.2000\n",
      "kc_Ha                     |       7.9d+4 |       7.9d+4 |       7.9d+4\n",
      "ko_Ha                     |       3.6d+4 |       3.6d+4 |       3.6d+4\n",
      "vcmax25_canopyTop         |      40.0000 |      20.0000 |     100.0000\n",
      "vcmax_qFac                |       2.4000 |       2.4000 |       2.4000\n",
      "vcmax_Ha                  |       6.5d+4 |       6.5d+4 |       6.5d+4\n",
      "vcmax_Hd                  |       2.2d+5 |       1.5d+5 |       1.5d+5\n",
      "vcmax_Sv                  |     710.0000 |     485.0000 |     485.0000\n",
      "vcmax_Kn                  |       0.6000 |       0.0000 |       1.2000\n",
      "jmax25_scale              |       2.0000 |       2.0000 |       2.0000\n",
      "jmax_Ha                   |       4.4d+4 |       4.4d+4 |       4.4d+4\n",
      "jmax_Hd                   |       1.5d+5 |       1.5d+5 |       1.5d+5\n",
      "jmax_Sv                   |     495.0000 |     495.0000 |     495.0000\n",
      "fractionJ                 |       0.1500 |       0.1500 |       0.1500\n",
      "quantamYield              |       0.0500 |       0.0500 |       0.0500\n",
      "vpScaleFactor             |    1500.0000 |    1500.0000 |    1500.0000\n",
      "cond2photo_slope          |       9.0000 |       1.0000 |      10.0000\n",
      "minStomatalConductance    |    2000.0000 |    2000.0000 |    2000.0000\n",
      "winterSAI                 |       1.0000 |       0.0100 |       3.0000\n",
      "summerLAI                 |       3.0000 |       0.0100 |      10.0000\n",
      "rootScaleFactor1          |       2.0000 |       1.0000 |      10.0000\n",
      "rootScaleFactor2          |       5.0000 |       1.0000 |      10.0000\n",
      "rootingDepth              |       2.0000 |       0.0100 |      10.0000\n",
      "rootDistExp               |       1.0000 |       0.0100 |       1.0000\n",
      "plantWiltPsi              |      -1.5d+2 |      -5.0d+2 |       0.0000\n",
      "soilStressParam           |       5.8000 |       4.3600 |       6.3700\n",
      "critSoilWilting           |       0.0750 |       0.0000 |       1.0000\n",
      "critSoilTranspire         |       0.1750 |       0.0000 |       1.0000\n",
      "critAquiferTranspire      |       0.2000 |       0.1000 |      10.0000\n",
      "minStomatalResistance     |      50.0000 |      10.0000 |     200.0000\n",
      "leafDimension             |       0.0400 |       0.0100 |       0.1000\n",
      "heightCanopyTop           |      20.0000 |       0.0500 |     100.0000\n",
      "heightCanopyBottom        |       2.0000 |       0.0000 |       5.0000\n",
      "specificHeatVeg           |     874.0000 |     500.0000 |    1500.0000\n",
      "maxMassVegetation         |      25.0000 |       1.0000 |      50.0000\n",
      "throughfallScaleSnow      |       0.5000 |       0.1000 |       0.9000\n",
      "throughfallScaleRain      |       0.5000 |       0.1000 |       0.9000\n",
      "refInterceptCapSnow       |       6.6000 |       1.0000 |      10.0000\n",
      "refInterceptCapRain       |       1.0000 |       0.0100 |       1.0000\n",
      "snowUnloadingCoeff        |       0.0000 |       0.0000 |       1.5d-6\n",
      "canopyDrainageCoeff       |       0.0050 |       0.0010 |       0.0100\n",
      "ratioDrip2Unloading       |       0.4000 |       0.0000 |       1.0000\n",
      "canopyWettingFactor       |       0.7000 |       0.0000 |       1.0000\n",
      "canopyWettingExp          |       1.0000 |       0.0000 |       1.0000\n",
      "soil_dens_intr            |    2700.0000 |     500.0000 |    4000.0000\n",
      "thCond_soil               |       5.5000 |       2.9000 |       8.4000\n",
      "frac_sand                 |       0.1600 |       0.0000 |       1.0000\n",
      "frac_silt                 |       0.2800 |       0.0000 |       1.0000\n",
      "frac_clay                 |       0.5600 |       0.0000 |       1.0000\n",
      "fieldCapacity             |       0.2000 |       0.0000 |       1.0000\n",
      "wettingFrontSuction       |       0.3000 |       0.1000 |       1.5000\n",
      "theta_mp                  |       0.4010 |       0.3000 |       0.6000\n",
      "theta_sat                 |       0.5500 |       0.3000 |       0.6000\n",
      "theta_res                 |       0.1390 |       0.0010 |       0.1000\n",
      "vGn_alpha                 |      -8.4d-1 |      -1.0d+0 |      -1.0d-2\n",
      "vGn_n                     |       1.3000 |       1.0000 |       3.0000\n",
      "mpExp                     |       5.0000 |       1.0000 |      10.0000\n",
      "k_soil                    |       7.5d-6 |       1.0d-7 |       1.0d-5\n",
      "k_macropore               |       0.0010 |       1.0d-7 |       1.0d-5\n",
      "kAnisotropic              |       1.0000 |       0.0001 |      10.0000\n",
      "zScale_TOPMODEL           |       2.5000 |       0.1000 |     100.0000\n",
      "compactedDepth            |       1.0000 |       0.0000 |       1.0000\n",
      "aquiferScaleFactor        |       0.3500 |       0.1000 |     100.0000\n",
      "aquiferBaseflowExp        |       2.0000 |       1.0000 |      10.0000\n",
      "aquiferBaseflowRate       |       2.0000 |       1.0000 |      10.0000\n",
      "qSurfScale                |      50.0000 |       1.0000 |     100.0000\n",
      "specificYield             |       0.2000 |       0.1000 |       0.3000\n",
      "specificStorage           |       1.0d-9 |       1.0d-5 |       1.0d-7\n",
      "f_impede                  |       2.0000 |       1.0000 |      10.0000\n",
      "soilIceScale              |       0.1300 |       0.0001 |       1.0000\n",
      "soilIceCV                 |       0.4500 |       0.1000 |       5.0000\n",
      "minwind                   |       0.1000 |       0.0010 |       1.0000\n",
      "minstep                   |       1.0000 |       1.0000 |    1800.0000\n",
      "maxstep                   |    3600.0000 |      60.0000 |    1800.0000\n",
      "wimplicit                 |       0.0000 |       0.0000 |       1.0000\n",
      "maxiter                   |     100.0000 |       1.0000 |     100.0000\n",
      "relConvTol_liquid         |       0.0010 |       1.0d-5 |       0.1000\n",
      "absConvTol_liquid         |       1.0d-5 |       1.0d-8 |       0.0010\n",
      "relConvTol_matric         |       1.0d-6 |       1.0d-5 |       0.1000\n",
      "absConvTol_matric         |       1.0d-6 |       1.0d-8 |       0.0010\n",
      "relConvTol_energy         |       0.0100 |       1.0d-5 |       0.1000\n",
      "absConvTol_energy         |       1.0000 |       0.0100 |      10.0000\n",
      "relConvTol_aquifr         |       1.0000 |       0.0100 |      10.0000\n",
      "absConvTol_aquifr         |       1.0d-5 |       1.0d-5 |       0.1000\n",
      "zmin                      |       0.0100 |       0.0050 |       0.1000\n",
      "zmax                      |       0.0500 |       0.0100 |       0.5000\n",
      "zminLayer1                |       0.0075 |       0.0075 |       0.0075\n",
      "zminLayer2                |       0.0100 |       0.0100 |       0.0100\n",
      "zminLayer3                |       0.0500 |       0.0500 |       0.0500\n",
      "zminLayer4                |       0.1000 |       0.1000 |       0.1000\n",
      "zminLayer5                |       0.2500 |       0.2500 |       0.2500\n",
      "zmaxLayer1_lower          |       0.0500 |       0.0500 |       0.0500\n",
      "zmaxLayer2_lower          |       0.2000 |       0.2000 |       0.2000\n",
      "zmaxLayer3_lower          |       0.5000 |       0.5000 |       0.5000\n",
      "zmaxLayer4_lower          |       1.0000 |       1.0000 |       1.0000\n",
      "zmaxLayer1_upper          |       0.0300 |       0.0300 |       0.0300\n",
      "zmaxLayer2_upper          |       0.1500 |       0.1500 |       0.1500\n",
      "zmaxLayer3_upper          |       0.3000 |       0.3000 |       0.3000\n",
      "zmaxLayer4_upper          |       0.7500 |       0.7500 |       0.7500\n",
      "minTempUnloading          |     270.1600 |     260.1600 |     273.1600\n",
      "minWindUnloading          |       0.0000 |       0.0000 |      10.0000\n",
      "rateTempUnloading         |       1.9d+5 |       1.0d+5 |       3.0d+5\n",
      "rateWindUnloading         |       1.6d+5 |       1.0d+5 |       3.0d+5\n"
     ]
    }
   ],
   "source": [
    "print(s.global_hru_params)"
   ]
  },
  {
   "cell_type": "markdown",
   "metadata": {},
   "source": [
    "<br>\n",
    "\n",
    "Yikes, that's pretty long. Let's change something for the sake of it:"
   ]
  },
  {
   "cell_type": "code",
   "execution_count": 10,
   "metadata": {},
   "outputs": [
    {
     "name": "stdout",
     "output_type": "stream",
     "text": [
      "old: albedoMax                 |       0.8400 |       0.7000 |       0.9500\n",
      "new: albedoMax                 |       0.9000 |       0.9000 |       0.9000\n"
     ]
    }
   ],
   "source": [
    "# Print it\n",
    "print('old: ' + str(s.global_hru_params['albedoMax']))\n",
    "\n",
    "# Change the value\n",
    "s.global_hru_params['albedoMax'] = 0.9\n",
    "print('new: ' + str(s.global_hru_params['albedoMax']))"
   ]
  },
  {
   "cell_type": "markdown",
   "metadata": {},
   "source": [
    "<br>\n",
    "\n",
    "### Modifying output\n",
    "And one more, we can also modify what get's written to output. \n",
    "The output control file represents the options available through columns of numeric values.\n",
    "These numbers represent how to write the output. \n",
    "From the SUMMA documentation (https://summa.readthedocs.io/en/latest/input_output/SUMMA_input/#output-control-file) they are arranged as:\n",
    "\n",
    "```\n",
    "! varName          | outFreq | inst | sum | mean | var | min | max | mode\n",
    "```\n",
    "\n",
    "As before, let's look at what's in the `output_control` by simply printing it out:\n"
   ]
  },
  {
   "cell_type": "code",
   "execution_count": 11,
   "metadata": {},
   "outputs": [
    {
     "name": "stdout",
     "output_type": "stream",
     "text": [
      "nSnow                                | 1 | 0 | 1 | 0 | 0 | 0 | 0 | 0\n",
      "nSoil                                | 1 | 0 | 1 | 0 | 0 | 0 | 0 | 0\n",
      "pptrate                              | 1 | 0 | 1 | 0 | 0 | 0 | 0 | 0\n",
      "airtemp                              | 1 | 0 | 1 | 0 | 0 | 0 | 0 | 0\n",
      "scalarRainPlusMelt                   | 1 | 0 | 1 | 0 | 0 | 0 | 0 | 0\n",
      "scalarSWE                            | 1 | 0 | 1 | 0 | 0 | 0 | 0 | 0\n",
      "scalarSnowDepth                      | 1 | 0 | 1 | 0 | 0 | 0 | 0 | 0\n",
      "scalarThroughfallSnow                | 1 | 0 | 1 | 0 | 0 | 0 | 0 | 0\n",
      "scalarThroughfallRain                | 1 | 0 | 1 | 0 | 0 | 0 | 0 | 0\n",
      "scalarSnowSublimation                | 1 | 0 | 1 | 0 | 0 | 0 | 0 | 0\n",
      "scalarInfiltration                   | 1 | 0 | 1 | 0 | 0 | 0 | 0 | 0\n",
      "scalarExfiltration                   | 1 | 0 | 1 | 0 | 0 | 0 | 0 | 0\n",
      "scalarSurfaceRunoff                  | 1 | 0 | 1 | 0 | 0 | 0 | 0 | 0\n",
      "scalarSurfaceTemp                    | 1 | 0 | 1 | 0 | 0 | 0 | 0 | 0\n",
      "scalarSenHeatTotal                   | 1 | 0 | 1 | 0 | 0 | 0 | 0 | 0\n",
      "scalarLatHeatTotal                   | 1 | 0 | 1 | 0 | 0 | 0 | 0 | 0\n",
      "scalarTotalRunoff                    | 1 | 0 | 1 | 0 | 0 | 0 | 0 | 0\n",
      "iLayerHeight                         | 1 | 0 | 1 | 0 | 0 | 0 | 0 | 0\n",
      "iLayerLiqFluxSoil                    | 1 | 0 | 1 | 0 | 0 | 0 | 0 | 0\n",
      "mLayerTemp                           | 1 | 0 | 1 | 0 | 0 | 0 | 0 | 0\n",
      "mLayerDepth                          | 1 | 0 | 1 | 0 | 0 | 0 | 0 | 0\n",
      "mLayerHeight                         | 1 | 0 | 1 | 0 | 0 | 0 | 0 | 0\n",
      "mLayerLiqFluxSoil                    | 1 | 0 | 1 | 0 | 0 | 0 | 0 | 0\n",
      "mLayerVolFracIce                     | 1 | 0 | 1 | 0 | 0 | 0 | 0 | 0\n",
      "mLayerVolFracLiq                     | 1 | 0 | 1 | 0 | 0 | 0 | 0 | 0\n",
      "mLayerVolFracWat                     | 1 | 0 | 1 | 0 | 0 | 0 | 0 | 0\n",
      "mLayerMatricHead                     | 1 | 0 | 1 | 0 | 0 | 0 | 0 | 0\n",
      "basin__SurfaceRunoff                 | 1 | 0 | 1 | 0 | 0 | 0 | 0 | 0\n",
      "basin__ColumnOutflow                 | 1 | 0 | 1 | 0 | 0 | 0 | 0 | 0\n",
      "basin__AquiferStorage                | 1 | 0 | 1 | 0 | 0 | 0 | 0 | 0\n",
      "basin__AquiferRecharge               | 1 | 0 | 1 | 0 | 0 | 0 | 0 | 0\n",
      "basin__AquiferBaseflow               | 1 | 0 | 1 | 0 | 0 | 0 | 0 | 0\n",
      "basin__AquiferTranspire              | 1 | 0 | 1 | 0 | 0 | 0 | 0 | 0\n",
      "averageInstantRunoff                 | 1 | 0 | 1 | 0 | 0 | 0 | 0 | 0\n",
      "averageRoutedRunoff                  | 1 | 0 | 1 | 0 | 0 | 0 | 0 | 0\n",
      "scalarLAI                            | 1 | 0 | 1 | 0 | 0 | 0 | 0 | 0\n",
      "scalarSAI                            | 1 | 0 | 1 | 0 | 0 | 0 | 0 | 0\n"
     ]
    }
   ],
   "source": [
    "print(s.output_control)"
   ]
  },
  {
   "cell_type": "markdown",
   "metadata": {},
   "source": [
    "<br>\n",
    "\n",
    "Note that SUMMA is pretty flexible in its output. What we see above is a pretty typical output file configuration that contains most of the major state variables and fluxes. For a more complete overview of what you can ask SUMMA to output, see: https://github.com/NCAR/summa/blob/master/build/source/dshare/var_lookup.f90\n",
    "\n",
    "We can modify values in the existing `output_control` in a couple of ways:"
   ]
  },
  {
   "cell_type": "code",
   "execution_count": 12,
   "metadata": {},
   "outputs": [
    {
     "name": "stdout",
     "output_type": "stream",
     "text": [
      "scalarRainPlusMelt                   | 1 | 0 | 1 | 0 | 0 | 0 | 0 | 0\n",
      "instant\n",
      "scalarRainPlusMelt                   | 1 | 1 | 0 | 0 | 0 | 0 | 0 | 0\n",
      "sum\n",
      "scalarRainPlusMelt                   | 1 | 0 | 1 | 0 | 0 | 0 | 0 | 0\n",
      "instant\n"
     ]
    }
   ],
   "source": [
    "# Check the settings for one of the output variables\n",
    "print(s.output_control['scalarRainPlusMelt'])\n",
    "print(s.output_control['scalarRainPlusMelt'].statistic)\n",
    "\n",
    "# Change the output statistic from instantaneous to sum\n",
    "s.output_control['scalarRainPlusMelt'] = [1, 1, 0, 0, 0, 0, 0, 0]\n",
    "print(s.output_control['scalarRainPlusMelt'])\n",
    "print(s.output_control['scalarRainPlusMelt'].statistic)\n",
    "\n",
    "# We could also be more verbose:\n",
    "s.output_control['scalarRainPlusMelt'] = {\n",
    "    'period': 1, 'instant': 1, 'sum': 0, \n",
    "    'mean': 0, 'variance': 0, 'min': 0, 'max': 0\n",
    "}\n",
    "print(s.output_control['scalarRainPlusMelt'])\n",
    "print(s.output_control['scalarRainPlusMelt'].statistic)"
   ]
  },
  {
   "cell_type": "markdown",
   "metadata": {},
   "source": [
    "<br>\n",
    "\n",
    "## Running pysumma and manipulating output\n",
    "\n",
    "Now that you've had an overview of how you can interact with SUMMA configurations through pysumma let's run a simulation. \n",
    "Before doing so we will reset our `Simulation` object, which will discard all of the changes we've made and load in a clean setup. \n",
    "Alternatively you could simply instantiate a new `Simulation` object.\n",
    "After running the simulation, we will make sure that it completed successfully by checking the status.\n",
    "With a complete run, we can look at the output simply by using the simulation's `output` attribute.\n",
    "It is simply an xarray dataset, which can be manipulated in all of the usual ways."
   ]
  },
  {
   "cell_type": "code",
   "execution_count": 13,
   "metadata": {},
   "outputs": [],
   "source": [
    "s.reset()\n",
    "# Or you could just create a new simulation object like before:\n",
    "#s = ps.Simulation(executable, file_manager)"
   ]
  },
  {
   "cell_type": "markdown",
   "metadata": {},
   "source": [
    "<br>\n",
    "\n",
    "Before we run the model, we need to ensure that the output directory specified in the fileManger actually exists. If it doesn't, SUMMA will notify you of this and abort the simulation."
   ]
  },
  {
   "cell_type": "code",
   "execution_count": 14,
   "metadata": {},
   "outputs": [
    {
     "name": "stdout",
     "output_type": "stream",
     "text": [
      "Current specified output directory: /home/jovyan/data/pbhmCourseExercises/2_process_based_modelling/pbhm-exercise-2/output/reynolds/\n"
     ]
    }
   ],
   "source": [
    "# module to handle tasks related to files and folders\n",
    "import os \n",
    "\n",
    "# Make the output directory if it doesn't exist\n",
    "print('Current specified output directory: ' + s.manager['outputPath'].value) \n",
    "if not os.path.exists(s.manager['outputPath'].value):\n",
    "    os.makedirs(s.manager['outputPath'].value)"
   ]
  },
  {
   "cell_type": "markdown",
   "metadata": {},
   "source": [
    "<br>\n",
    "\n",
    "Now we can try a model run."
   ]
  },
  {
   "cell_type": "code",
   "execution_count": 15,
   "metadata": {},
   "outputs": [
    {
     "name": "stdout",
     "output_type": "stream",
     "text": [
      "Success\n"
     ]
    }
   ],
   "source": [
    "s.run('local', run_suffix='_default') # run_suffix allows you to specify a string that will be added to the output file name. This is very useful to keep track of different experiments\n",
    "print(s.status)"
   ]
  },
  {
   "cell_type": "markdown",
   "metadata": {},
   "source": [
    "You should have gotten a `'Success'` printed out after running the simulation. For further details about the simulation you can look at the full output log that SUMMA produces by printing out `s.stdout`. In the event that `s.status` does not return `Success` you may wish to inspect this log to diagnose the problem further. `s.stderror` and `s.stdout` can provide details about the error."
   ]
  },
  {
   "cell_type": "markdown",
   "metadata": {},
   "source": [
    "<br>\n",
    "\n",
    "## Plotting\n",
    "\n",
    "Now that we've got some output we can plot some results. Because the output is an xarray `DataSet` we can use the convenient plotting capabilities provided by xarray."
   ]
  },
  {
   "cell_type": "code",
   "execution_count": 16,
   "metadata": {},
   "outputs": [
    {
     "data": {
      "image/png": "[encoded data removed]",
      "text/plain": [
       "<Figure size 432x288 with 1 Axes>"
      ]
     },
     "metadata": {
      "needs_background": "light"
     },
     "output_type": "display_data"
    }
   ],
   "source": [
    "s.output['scalarSWE'].plot(label='SUMMA');\n",
    "plt.legend(); # note that 'plt' relies on: 'import matplotlib.pyplot as plt' which is magically included in the line `%pylab inline` in the first code block"
   ]
  },
  {
   "cell_type": "markdown",
   "metadata": {},
   "source": [
    "<br>\n",
    "\n",
    "Additionally, pysumma provides some more specialized plotting capabilities. To access it we have the `ps.plotting` module. First, lets plot the vertical layers over time. For this we will use `ps.plotting.layers`, which requires two pieces of information. First, the variable that you want to plot. It should have both `time` and `midToto` dimensions. The first plot we will make will be the temperature, which uses the variable `mLayerTemp`, and the second will be the volumetric fraction of water content in each layer, which uses `mLayerVolFracWat`. To start out we will give these more convenient names.\n"
   ]
  },
  {
   "cell_type": "code",
   "execution_count": 17,
   "metadata": {},
   "outputs": [],
   "source": [
    "depth = s.output.sel(hru=1)['iLayerHeight']\n",
    "temp = s.output.sel(hru=1)['mLayerTemp']\n",
    "frac_wat = s.output.sel(hru=1)['mLayerVolFracWat']"
   ]
  },
  {
   "cell_type": "markdown",
   "metadata": {},
   "source": [
    "Now we can plot this using our function. For the temperature plot we will set `plot_soil` to `False` so that we only plot the snowpack. We can see that the top layers of the snowpack respond more quickly to the changing air temperature, and that later in the season the warmer air causes temperature transmission to lower layers and ultimately melts out. "
   ]
  },
  {
   "cell_type": "code",
   "execution_count": 18,
   "metadata": {},
   "outputs": [
    {
     "data": {
      "image/png": "[encoded data removed]",
      "text/plain": [
       "<Figure size 1296x576 with 2 Axes>"
      ]
     },
     "metadata": {
      "needs_background": "light"
     },
     "output_type": "display_data"
    }
   ],
   "source": [
    "psp.layers(temp, depth, colormap='viridis', plot_soil=False, plot_snow=True);\n",
    "s.output['scalarSnowDepth'].plot(color='red', linewidth=2);"
   ]
  },
  {
   "cell_type": "markdown",
   "metadata": {},
   "source": [
    "By looking at the volumetric water content we can see even more details. Now we will set `plot_soil` to `True` so that we can see how snowmelt can cause water infiltration into the soil. For example, during the melt season in 2012 we can easily see how the snowmelt infiltrates into the ground."
   ]
  },
  {
   "cell_type": "code",
   "execution_count": 17,
   "metadata": {},
   "outputs": [
    {
     "data": {
      "image/png": "[encoded data removed]",
      "text/plain": [
       "<Figure size 1296x576 with 2 Axes>"
      ]
     },
     "metadata": {
      "needs_background": "light"
     },
     "output_type": "display_data"
    }
   ],
   "source": [
    "psp.layers(frac_wat, depth, colormap='Blues', plot_soil=True, plot_snow=True);\n",
    "s.output['scalarSnowDepth'].plot(color='red', linewidth=2);"
   ]
  }
 ],
 "metadata": {
  "kernelspec": {
   "display_name": "Python 3",
   "language": "python",
   "name": "python3"
  },
  "language_info": {
   "codemirror_mode": {
    "name": "ipython",
    "version": 3
   },
   "file_extension": ".py",
   "mimetype": "text/x-python",
   "name": "python",
   "nbconvert_exporter": "python",
   "pygments_lexer": "ipython3",
   "version": "3.7.6"
  }
 },
 "nbformat": 4,
 "nbformat_minor": 4
}
